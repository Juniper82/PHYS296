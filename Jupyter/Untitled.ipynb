{
 "cells": [
  {
   "cell_type": "code",
   "execution_count": 1,
   "metadata": {},
   "outputs": [
    {
     "name": "stdout",
     "output_type": "stream",
     "text": [
      "/home/scott/GIT/PHYS296/Jupyter\n"
     ]
    }
   ],
   "source": [
    "import pandas as pd\n",
    "import os\n",
    "print(os.getcwd())\n",
    "\n",
    "class DATA(object):\n",
    "    \"\"\"\n",
    "    reads in data files into a pandas dataframe \n",
    "    \"\"\"\n",
    "    \n",
    "    def __init__(self,path):\n",
    "        self.path = path\n",
    "        self.files = os.listdir(self.path)\n",
    "        self.DataFrames = {}\n",
    "        os.chdir(self.path)\n",
    "        \n",
    "    def getFileNames(self):\n",
    "        return self.files\n",
    "    \n",
    "    def getCWDPath(self):\n",
    "        return os.getcwd()\n",
    "    \n",
    "    def createDF(self):\n",
    "        for file in self.files:\n",
    "            self.DataFrames[file] = pd.read_excel(file)\n",
    "            \"\"\"\n",
    "            The line of code below alters the key names for the dataframes to only include the first 4 characters \n",
    "            which are all numbers\n",
    "            \"\"\"\n",
    "            #self.DataFrames[file[0:4]] = pd.read_excel(file)\n",
    "        \n",
    "    def getDF(self,file):\n",
    "        return self.DataFrames[file]\n",
    "    \n",
    "    def getDataFrames(self):\n",
    "        return self.DataFrames"
   ]
  },
  {
   "cell_type": "code",
   "execution_count": null,
   "metadata": {},
   "outputs": [],
   "source": []
  }
 ],
 "metadata": {
  "kernelspec": {
   "display_name": "Python 2",
   "language": "python",
   "name": "python2"
  },
  "language_info": {
   "codemirror_mode": {
    "name": "ipython",
    "version": 3
   },
   "file_extension": ".py",
   "mimetype": "text/x-python",
   "name": "python",
   "nbconvert_exporter": "python",
   "pygments_lexer": "ipython3",
   "version": "3.6.8"
  }
 },
 "nbformat": 4,
 "nbformat_minor": 2
}
